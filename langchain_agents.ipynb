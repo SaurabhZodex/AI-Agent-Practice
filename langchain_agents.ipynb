{
 "cells": [
  {
   "cell_type": "code",
   "execution_count": 1,
   "id": "05d3e7ac",
   "metadata": {},
   "outputs": [
    {
     "name": "stdout",
     "output_type": "stream",
     "text": [
      "Coordinates 13.0°N 77.625°E\n",
      "Elevation 918.0 m asl\n",
      "Timezone b'Asia/Kolkata'b'GMT+5:30'\n",
      "Timezone difference to GMT+0 19800 s\n",
      "                         date  temperature_2m  relative_humidity_2m  \\\n",
      "0   2025-04-07 18:30:00+00:00       24.546000                  59.0   \n",
      "1   2025-04-07 19:30:00+00:00       23.646000                  64.0   \n",
      "2   2025-04-07 20:30:00+00:00       22.896000                  70.0   \n",
      "3   2025-04-07 21:30:00+00:00       22.246000                  76.0   \n",
      "4   2025-04-07 22:30:00+00:00       21.746000                  82.0   \n",
      "..                        ...             ...                   ...   \n",
      "163 2025-04-14 13:30:00+00:00       26.496000                  65.0   \n",
      "164 2025-04-14 14:30:00+00:00       25.445999                  71.0   \n",
      "165 2025-04-14 15:30:00+00:00       24.846001                  72.0   \n",
      "166 2025-04-14 16:30:00+00:00       24.496000                  70.0   \n",
      "167 2025-04-14 17:30:00+00:00       24.246000                  69.0   \n",
      "\n",
      "     dew_point_2m  apparent_temperature  rain  precipitation  showers  \\\n",
      "0       16.007765             25.855854   0.0            0.0      0.0   \n",
      "1       16.436489             25.140659   0.0            0.0      0.0   \n",
      "2       17.134861             24.685219   0.0            0.0      0.0   \n",
      "3       17.812521             24.374144   0.0            0.0      0.0   \n",
      "4       18.537212             24.255091   0.0            0.0      0.0   \n",
      "..            ...                   ...   ...            ...      ...   \n",
      "163     19.382723             29.438766   0.0            0.0      0.0   \n",
      "164     19.803642             28.856773   0.0            0.0      0.0   \n",
      "165     19.453354             28.122227   0.0            0.1      0.1   \n",
      "166     18.666092             27.429228   0.0            0.1      0.1   \n",
      "167     18.197428             26.940018   0.0            0.1      0.1   \n",
      "\n",
      "     precipitation_probability  snowfall  snow_depth  \n",
      "0                          0.0       0.0         0.0  \n",
      "1                          0.0       0.0         0.0  \n",
      "2                          0.0       0.0         0.0  \n",
      "3                          0.0       0.0         0.0  \n",
      "4                          0.0       0.0         0.0  \n",
      "..                         ...       ...         ...  \n",
      "163                       20.0       0.0         0.0  \n",
      "164                       20.0       0.0         0.0  \n",
      "165                       20.0       0.0         0.0  \n",
      "166                       20.0       0.0         0.0  \n",
      "167                       20.0       0.0         0.0  \n",
      "\n",
      "[168 rows x 11 columns]\n"
     ]
    }
   ],
   "source": [
    "import openmeteo_requests\n",
    "\n",
    "import requests_cache\n",
    "import pandas as pd\n",
    "from retry_requests import retry\n",
    "\n",
    "# Setup the Open-Meteo API client with cache and retry on error\n",
    "cache_session = requests_cache.CachedSession('./weathercache/.cache', expire_after = 3600)\n",
    "retry_session = retry(cache_session, retries = 5, backoff_factor = 0.2)\n",
    "openmeteo = openmeteo_requests.Client(session = retry_session)\n",
    "\n",
    "# Make sure all required weather variables are listed here\n",
    "# The order of variables in hourly or daily is important to assign them correctly below\n",
    "url = \"https://api.open-meteo.com/v1/forecast\"\n",
    "params = {\n",
    "\t\"latitude\": 12.9719,\n",
    "\t\"longitude\": 77.5937,\n",
    "    \"timezone\": \"auto\",\n",
    "    # \"forecast_days\": 1,\n",
    "    \"current_weather\": True,\n",
    "\t\"hourly\": [\"temperature_2m\", \"relative_humidity_2m\", \"dew_point_2m\", \"apparent_temperature\", \"rain\", \"precipitation\", \"showers\", \"precipitation_probability\", \"snowfall\", \"snow_depth\"]\n",
    "}\n",
    "responses = openmeteo.weather_api(url, params=params)\n",
    "\n",
    "# Process first location. Add a for-loop for multiple locations or weather models\n",
    "response = responses[0]\n",
    "print(f\"Coordinates {response.Latitude()}°N {response.Longitude()}°E\")\n",
    "print(f\"Elevation {response.Elevation()} m asl\")\n",
    "print(f\"Timezone {response.Timezone()}{response.TimezoneAbbreviation()}\")\n",
    "print(f\"Timezone difference to GMT+0 {response.UtcOffsetSeconds()} s\")\n",
    "\n",
    "# Process hourly data. The order of variables needs to be the same as requested.\n",
    "hourly = response.Hourly()\n",
    "hourly_temperature_2m = hourly.Variables(0).ValuesAsNumpy()\n",
    "hourly_relative_humidity_2m = hourly.Variables(1).ValuesAsNumpy()\n",
    "hourly_dew_point_2m = hourly.Variables(2).ValuesAsNumpy()\n",
    "hourly_apparent_temperature = hourly.Variables(3).ValuesAsNumpy()\n",
    "hourly_rain = hourly.Variables(4).ValuesAsNumpy()\n",
    "hourly_precipitation = hourly.Variables(5).ValuesAsNumpy()\n",
    "hourly_showers = hourly.Variables(6).ValuesAsNumpy()\n",
    "hourly_precipitation_probability = hourly.Variables(7).ValuesAsNumpy()\n",
    "hourly_snowfall = hourly.Variables(8).ValuesAsNumpy()\n",
    "hourly_snow_depth = hourly.Variables(9).ValuesAsNumpy()\n",
    "\n",
    "hourly_data = {\"date\": pd.date_range(\n",
    "\tstart = pd.to_datetime(hourly.Time(), unit = \"s\", utc = True),\n",
    "\tend = pd.to_datetime(hourly.TimeEnd(), unit = \"s\", utc = True),\n",
    "\tfreq = pd.Timedelta(seconds = hourly.Interval()),\n",
    "\tinclusive = \"left\"\n",
    ")}\n",
    "\n",
    "hourly_data[\"temperature_2m\"] = hourly_temperature_2m\n",
    "hourly_data[\"relative_humidity_2m\"] = hourly_relative_humidity_2m\n",
    "hourly_data[\"dew_point_2m\"] = hourly_dew_point_2m\n",
    "hourly_data[\"apparent_temperature\"] = hourly_apparent_temperature\n",
    "hourly_data[\"rain\"] = hourly_rain\n",
    "hourly_data[\"precipitation\"] = hourly_precipitation\n",
    "hourly_data[\"showers\"] = hourly_showers\n",
    "hourly_data[\"precipitation_probability\"] = hourly_precipitation_probability\n",
    "hourly_data[\"snowfall\"] = hourly_snowfall\n",
    "hourly_data[\"snow_depth\"] = hourly_snow_depth\n",
    "\n",
    "hourly_dataframe = pd.DataFrame(data = hourly_data)\n",
    "print(hourly_dataframe)"
   ]
  },
  {
   "cell_type": "code",
   "execution_count": 12,
   "id": "ad8197ea",
   "metadata": {},
   "outputs": [
    {
     "data": {
      "text/plain": [
       "<openmeteo_sdk.VariablesWithTime.VariablesWithTime at 0x208275887c0>"
      ]
     },
     "execution_count": 12,
     "metadata": {},
     "output_type": "execute_result"
    }
   ],
   "source": [
    "hourly"
   ]
  },
  {
   "cell_type": "markdown",
   "id": "f85e59a1",
   "metadata": {},
   "source": [
    "## Import Necessary Modules "
   ]
  },
  {
   "cell_type": "code",
   "execution_count": 2,
   "id": "de85d5cf",
   "metadata": {},
   "outputs": [],
   "source": [
    "from langchain_community.document_loaders import PyMuPDFLoader\n",
    "from langchain_huggingface import HuggingFaceEmbeddings\n",
    "from langchain_text_splitters import RecursiveCharacterTextSplitter\n",
    "from langchain_community.vectorstores import FAISS\n",
    "from dotenv import load_dotenv\n",
    "import os\n",
    "from groq import Groq\n",
    "from langchain_groq import ChatGroq\n",
    "import ipywidgets as widgets\n",
    "from IPython.display import display, HTML\n",
    "from langchain_core.prompts import ChatPromptTemplate\n",
    "from langchain_core.runnables import chain\n",
    "from langchain_core.chat_history import InMemoryChatMessageHistory\n",
    "from langchain_core.runnables.history import RunnableWithMessageHistory\n",
    "from langchain.chains import LLMChain\n",
    "from langchain_core.documents import Document\n",
    "import numpy as np\n",
    "import matplotlib.pyplot as plt\n",
    "from sklearn.metrics.pairwise import cosine_distances\n",
    "from langchain_chroma import Chroma\n",
    "from uuid import uuid4\n",
    "from langchain_community.vectorstores.utils import filter_complex_metadata\n",
    "from langchain.retrievers import BM25Retriever, EnsembleRetriever"
   ]
  },
  {
   "cell_type": "markdown",
   "id": "b55a91d8",
   "metadata": {},
   "source": [
    "## Populating the Vector Database\n",
    "Check populate_vector_bd.ipynb file"
   ]
  },
  {
   "cell_type": "markdown",
   "id": "a8fe7d1f",
   "metadata": {},
   "source": [
    "## Load Vector DB or Create Retriever"
   ]
  },
  {
   "cell_type": "code",
   "execution_count": null,
   "id": "781b0cf1",
   "metadata": {},
   "outputs": [],
   "source": [
    "persist_directory=\"./Dataset/chroma_db_langchain\"\n",
    "# Embeddings\n",
    "embedder = HuggingFaceEmbeddings(model_name=\"BAAI/llm-embedder\")"
   ]
  },
  {
   "cell_type": "code",
   "execution_count": null,
   "id": "6e9fe421",
   "metadata": {},
   "outputs": [],
   "source": [
    "vectordb = Chroma(persist_directory=persist_directory, \n",
    "                collection_name=\"Adavance_RAG_Test\",\n",
    "                embedding_function=embedder)"
   ]
  }
 ],
 "metadata": {
  "kernelspec": {
   "display_name": ".venv",
   "language": "python",
   "name": "python3"
  },
  "language_info": {
   "codemirror_mode": {
    "name": "ipython",
    "version": 3
   },
   "file_extension": ".py",
   "mimetype": "text/x-python",
   "name": "python",
   "nbconvert_exporter": "python",
   "pygments_lexer": "ipython3",
   "version": "3.10.11"
  }
 },
 "nbformat": 4,
 "nbformat_minor": 5
}
